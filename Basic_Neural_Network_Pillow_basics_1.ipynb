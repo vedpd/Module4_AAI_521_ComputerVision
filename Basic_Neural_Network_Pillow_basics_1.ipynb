{
  "nbformat": 4,
  "nbformat_minor": 0,
  "metadata": {
    "colab": {
      "provenance": [],
      "toc_visible": true,
      "authorship_tag": "ABX9TyNUUin1gd27Owy5SnOtfdKV",
      "include_colab_link": true
    },
    "kernelspec": {
      "name": "python3",
      "display_name": "Python 3"
    },
    "language_info": {
      "name": "python"
    }
  },
  "cells": [
    {
      "cell_type": "markdown",
      "metadata": {
        "id": "view-in-github",
        "colab_type": "text"
      },
      "source": [
        "<a href=\"https://colab.research.google.com/github/vedpd/Module4_AAI_521_ComputerVision/blob/main/Basic_Neural_Network_Pillow_basics_1.ipynb\" target=\"_parent\"><img src=\"https://colab.research.google.com/assets/colab-badge.svg\" alt=\"Open In Colab\"/></a>"
      ]
    },
    {
      "cell_type": "markdown",
      "source": [
        "# 1: Importing libraries"
      ],
      "metadata": {
        "id": "ezMxWmY7eXvy"
      }
    },
    {
      "cell_type": "code",
      "execution_count": 1,
      "metadata": {
        "id": "AFu04j_ThWY4"
      },
      "outputs": [],
      "source": [
        "import tensorflow as tf\n",
        "from tensorflow import keras\n",
        "# import fashiontest"
      ]
    },
    {
      "cell_type": "markdown",
      "source": [
        "# 2: Reading Fashion Mnist dataset"
      ],
      "metadata": {
        "id": "iOwd8EvBedU3"
      }
    },
    {
      "cell_type": "code",
      "source": [
        "fashion_mnist = tf.keras.datasets.mnist\n"
      ],
      "metadata": {
        "id": "VPwSNZCKipJ8"
      },
      "execution_count": 2,
      "outputs": []
    },
    {
      "cell_type": "code",
      "source": [
        "(train_images, train_labels), (test_images, test_labels) = fashion_mnist.load_data()"
      ],
      "metadata": {
        "id": "0FdWoLcpiv9A",
        "colab": {
          "base_uri": "https://localhost:8080/"
        },
        "outputId": "a41638a9-5f8d-4c08-f60d-ce7001a09c4d"
      },
      "execution_count": 3,
      "outputs": [
        {
          "output_type": "stream",
          "name": "stdout",
          "text": [
            "Downloading data from https://storage.googleapis.com/tensorflow/tf-keras-datasets/mnist.npz\n",
            "\u001b[1m11490434/11490434\u001b[0m \u001b[32m━━━━━━━━━━━━━━━━━━━━\u001b[0m\u001b[37m\u001b[0m \u001b[1m0s\u001b[0m 0us/step\n"
          ]
        }
      ]
    },
    {
      "cell_type": "markdown",
      "source": [
        "# 3: Train and Test split"
      ],
      "metadata": {
        "id": "xqbNIRr8egdP"
      }
    },
    {
      "cell_type": "code",
      "source": [
        "(x_train,y_train), (x_test, y_test) = fashion_mnist.load_data()"
      ],
      "metadata": {
        "id": "PoIVy47NjKFJ"
      },
      "execution_count": 4,
      "outputs": []
    },
    {
      "cell_type": "code",
      "source": [
        "x_train.shape, x_test.shape"
      ],
      "metadata": {
        "colab": {
          "base_uri": "https://localhost:8080/"
        },
        "id": "S-u1x88MCdV5",
        "outputId": "76dd6592-3b98-406a-d1e9-55b63fe01a65"
      },
      "execution_count": 5,
      "outputs": [
        {
          "output_type": "execute_result",
          "data": {
            "text/plain": [
              "((60000, 28, 28), (10000, 28, 28))"
            ]
          },
          "metadata": {},
          "execution_count": 5
        }
      ]
    },
    {
      "cell_type": "code",
      "source": [
        "x_train, x_test,= x_train / 255, x_test / 255"
      ],
      "metadata": {
        "id": "ypHAyrzVCq4_"
      },
      "execution_count": 6,
      "outputs": []
    },
    {
      "cell_type": "markdown",
      "source": [
        "# 4: Defining a sequential tensorflow model"
      ],
      "metadata": {
        "id": "ZjMzvZm_ejYA"
      }
    },
    {
      "cell_type": "code",
      "source": [
        "model = tf.keras.models.Sequential([\n",
        "    tf.keras.layers.Flatten(input_shape=(28,28)),\n",
        "    tf.keras.layers.Dense(128, activation='relu'),\n",
        "    tf.keras.layers.Dropout(0.2),\n",
        "    tf.keras.layers.Dense(10, activation= \"softmax\")\n",
        "])"
      ],
      "metadata": {
        "colab": {
          "base_uri": "https://localhost:8080/"
        },
        "id": "a41vd0zTC6lu",
        "outputId": "54457195-16f2-41f0-9ccc-79e156b18ddc"
      },
      "execution_count": 7,
      "outputs": [
        {
          "output_type": "stream",
          "name": "stderr",
          "text": [
            "/usr/local/lib/python3.12/dist-packages/keras/src/layers/reshaping/flatten.py:37: UserWarning: Do not pass an `input_shape`/`input_dim` argument to a layer. When using Sequential models, prefer using an `Input(shape)` object as the first layer in the model instead.\n",
            "  super().__init__(**kwargs)\n"
          ]
        }
      ]
    },
    {
      "cell_type": "markdown",
      "source": [
        "# 5 : Defining the compile- optimizer-loss function"
      ],
      "metadata": {
        "id": "xsFxqKryenM5"
      }
    },
    {
      "cell_type": "code",
      "source": [
        "model.compile(optimizer='adam',\n",
        "              loss='sparse_categorical_crossentropy',\n",
        "              metrics=['accuracy'])"
      ],
      "metadata": {
        "id": "yWtpEj6wDRY8"
      },
      "execution_count": 8,
      "outputs": []
    },
    {
      "cell_type": "markdown",
      "source": [
        "# 6: Model fitting"
      ],
      "metadata": {
        "id": "b3aq_X49esHs"
      }
    },
    {
      "cell_type": "code",
      "source": [
        "model.fit(x_train, y_train, epochs=10)"
      ],
      "metadata": {
        "colab": {
          "base_uri": "https://localhost:8080/"
        },
        "id": "EB9dQTGdDo9E",
        "outputId": "0cdf3610-8613-4a99-f930-fb34f547b5c0"
      },
      "execution_count": 9,
      "outputs": [
        {
          "output_type": "stream",
          "name": "stdout",
          "text": [
            "Epoch 1/10\n",
            "\u001b[1m1875/1875\u001b[0m \u001b[32m━━━━━━━━━━━━━━━━━━━━\u001b[0m\u001b[37m\u001b[0m \u001b[1m8s\u001b[0m 4ms/step - accuracy: 0.8517 - loss: 0.4977\n",
            "Epoch 2/10\n",
            "\u001b[1m1875/1875\u001b[0m \u001b[32m━━━━━━━━━━━━━━━━━━━━\u001b[0m\u001b[37m\u001b[0m \u001b[1m8s\u001b[0m 4ms/step - accuracy: 0.9550 - loss: 0.1531\n",
            "Epoch 3/10\n",
            "\u001b[1m1875/1875\u001b[0m \u001b[32m━━━━━━━━━━━━━━━━━━━━\u001b[0m\u001b[37m\u001b[0m \u001b[1m7s\u001b[0m 4ms/step - accuracy: 0.9677 - loss: 0.1085\n",
            "Epoch 4/10\n",
            "\u001b[1m1875/1875\u001b[0m \u001b[32m━━━━━━━━━━━━━━━━━━━━\u001b[0m\u001b[37m\u001b[0m \u001b[1m8s\u001b[0m 4ms/step - accuracy: 0.9728 - loss: 0.0900\n",
            "Epoch 5/10\n",
            "\u001b[1m1875/1875\u001b[0m \u001b[32m━━━━━━━━━━━━━━━━━━━━\u001b[0m\u001b[37m\u001b[0m \u001b[1m8s\u001b[0m 4ms/step - accuracy: 0.9776 - loss: 0.0716\n",
            "Epoch 6/10\n",
            "\u001b[1m1875/1875\u001b[0m \u001b[32m━━━━━━━━━━━━━━━━━━━━\u001b[0m\u001b[37m\u001b[0m \u001b[1m7s\u001b[0m 4ms/step - accuracy: 0.9794 - loss: 0.0643\n",
            "Epoch 7/10\n",
            "\u001b[1m1875/1875\u001b[0m \u001b[32m━━━━━━━━━━━━━━━━━━━━\u001b[0m\u001b[37m\u001b[0m \u001b[1m8s\u001b[0m 4ms/step - accuracy: 0.9821 - loss: 0.0548\n",
            "Epoch 8/10\n",
            "\u001b[1m1875/1875\u001b[0m \u001b[32m━━━━━━━━━━━━━━━━━━━━\u001b[0m\u001b[37m\u001b[0m \u001b[1m7s\u001b[0m 4ms/step - accuracy: 0.9835 - loss: 0.0515\n",
            "Epoch 9/10\n",
            "\u001b[1m1875/1875\u001b[0m \u001b[32m━━━━━━━━━━━━━━━━━━━━\u001b[0m\u001b[37m\u001b[0m \u001b[1m8s\u001b[0m 4ms/step - accuracy: 0.9849 - loss: 0.0451\n",
            "Epoch 10/10\n",
            "\u001b[1m1875/1875\u001b[0m \u001b[32m━━━━━━━━━━━━━━━━━━━━\u001b[0m\u001b[37m\u001b[0m \u001b[1m8s\u001b[0m 4ms/step - accuracy: 0.9866 - loss: 0.0423\n"
          ]
        },
        {
          "output_type": "execute_result",
          "data": {
            "text/plain": [
              "<keras.src.callbacks.history.History at 0x796caf991820>"
            ]
          },
          "metadata": {},
          "execution_count": 9
        }
      ]
    },
    {
      "cell_type": "markdown",
      "source": [
        "# 7 : Model evaluation on test"
      ],
      "metadata": {
        "id": "NqdpEWbnevWx"
      }
    },
    {
      "cell_type": "code",
      "source": [
        "model.evaluate(x_test,y_test)"
      ],
      "metadata": {
        "colab": {
          "base_uri": "https://localhost:8080/"
        },
        "id": "-VrArYNTDwhP",
        "outputId": "4c1a91a6-452a-45cb-94fb-be4bae59744c"
      },
      "execution_count": 10,
      "outputs": [
        {
          "output_type": "stream",
          "name": "stdout",
          "text": [
            "\u001b[1m313/313\u001b[0m \u001b[32m━━━━━━━━━━━━━━━━━━━━\u001b[0m\u001b[37m\u001b[0m \u001b[1m1s\u001b[0m 2ms/step - accuracy: 0.9760 - loss: 0.0806\n"
          ]
        },
        {
          "output_type": "execute_result",
          "data": {
            "text/plain": [
              "[0.06670646369457245, 0.9797000288963318]"
            ]
          },
          "metadata": {},
          "execution_count": 10
        }
      ]
    },
    {
      "cell_type": "markdown",
      "source": [
        "# 8: Pillow library for python - image manipulation"
      ],
      "metadata": {
        "id": "_zdId-YSEOdd"
      }
    },
    {
      "cell_type": "markdown",
      "source": [
        "## 8.1 : Loading Pillow library"
      ],
      "metadata": {
        "id": "3tnN-AAXe25x"
      }
    },
    {
      "cell_type": "code",
      "source": [
        "from PIL import Image"
      ],
      "metadata": {
        "id": "L1bZyIXSEGuk"
      },
      "execution_count": 11,
      "outputs": []
    },
    {
      "cell_type": "markdown",
      "source": [
        "## 8.2 : Loading image as an object"
      ],
      "metadata": {
        "id": "BG3JAD92e6YS"
      }
    },
    {
      "cell_type": "code",
      "source": [
        "image_obj = Image.open(\"/content/WhatsApp Image 2025-09-26 at 23.08.38_8a292342.jpg\")"
      ],
      "metadata": {
        "id": "qbJpwKjIEclc"
      },
      "execution_count": 12,
      "outputs": []
    },
    {
      "cell_type": "markdown",
      "source": [
        "## 8.3 : Saving jpeg to png"
      ],
      "metadata": {
        "id": "26Yn0K_Te-Xy"
      }
    },
    {
      "cell_type": "code",
      "source": [
        "image_obj.save('/content/ex1.png')"
      ],
      "metadata": {
        "id": "AzmZSYZxE2YS"
      },
      "execution_count": 13,
      "outputs": []
    },
    {
      "cell_type": "markdown",
      "source": [
        "## 8.4: Mouting google drive"
      ],
      "metadata": {
        "id": "57xkb3bwfB0T"
      }
    },
    {
      "cell_type": "code",
      "source": [
        "from google.colab import drive\n",
        "drive.mount('/content/drive')\n",
        "\n",
        "\n",
        "import os\n",
        "\n",
        "# Example: images are stored inside your Drive folder\n",
        "image_folder = '/content'\n",
        "\n"
      ],
      "metadata": {
        "colab": {
          "base_uri": "https://localhost:8080/"
        },
        "id": "Ai8oEV3BE5gi",
        "outputId": "39f26e65-f98c-4738-a636-18658ad1b238"
      },
      "execution_count": 14,
      "outputs": [
        {
          "output_type": "stream",
          "name": "stdout",
          "text": [
            "Mounted at /content/drive\n"
          ]
        }
      ]
    },
    {
      "cell_type": "markdown",
      "source": [
        "## 8.5 : Iterate through images in the folder and save in png"
      ],
      "metadata": {
        "id": "kRZADmpQfGIy"
      }
    },
    {
      "cell_type": "code",
      "source": [
        "import os\n",
        "from PIL import Image  # optional, if you want to open images\n",
        "\n",
        "for file_name in os.listdir(image_folder):\n",
        "    if file_name.lower().endswith(('.jpg')):\n",
        "        img_path = os.path.join(image_folder, file_name)\n",
        "        print(\"Processing:\", img_path)\n",
        "\n",
        "        # Example: open the image\n",
        "        img = Image.open(img_path)\n",
        "        # Do something with img (resize, analyze, etc.)\n",
        "\n",
        "        fn, fext = os.path.splitext(file_name)\n",
        "        print(fn, fext)\n",
        "\n",
        "        img.save('{}.png'.format(fn))\n"
      ],
      "metadata": {
        "colab": {
          "base_uri": "https://localhost:8080/"
        },
        "id": "78_p2hnsFlUB",
        "outputId": "255bcbcc-b7b3-4a83-8d44-81a31e1ced8c"
      },
      "execution_count": 15,
      "outputs": [
        {
          "output_type": "stream",
          "name": "stdout",
          "text": [
            "Processing: /content/WhatsApp Image 2025-09-26 at 23.10.39_82643042.jpg\n",
            "WhatsApp Image 2025-09-26 at 23.10.39_82643042 .jpg\n",
            "Processing: /content/WhatsApp Image 2025-09-26 at 23.08.38_8a292342.jpg\n",
            "WhatsApp Image 2025-09-26 at 23.08.38_8a292342 .jpg\n"
          ]
        }
      ]
    },
    {
      "cell_type": "markdown",
      "source": [
        "## 8.6 : Resizing the images and saving"
      ],
      "metadata": {
        "id": "zMxyg5gBfMzz"
      }
    },
    {
      "cell_type": "code",
      "source": [
        "# resize the files\n",
        "\n",
        "size_300 = (300,300)\n",
        "\n",
        "for file_name in os.listdir(image_folder):\n",
        "    if file_name.lower().endswith(('.jpg')):\n",
        "        img_path = os.path.join(image_folder, file_name)\n",
        "        print(\"Processing:\", img_path)\n",
        "\n",
        "        # Example: open the image\n",
        "        img = Image.open(img_path)\n",
        "        # Do something with img (resize, analyze, etc.)\n",
        "\n",
        "        fn, fext = os.path.splitext(file_name)\n",
        "        print(fn, fext)\n",
        "\n",
        "\n",
        "        img.thumbnail(size_300)\n",
        "        img.save('{}_300{}'.format(fn,fext))\n",
        "\n"
      ],
      "metadata": {
        "colab": {
          "base_uri": "https://localhost:8080/"
        },
        "id": "uZwloZAzG7Ah",
        "outputId": "f67d62a8-bd38-4e9d-d37a-7f4191c868f0"
      },
      "execution_count": 16,
      "outputs": [
        {
          "output_type": "stream",
          "name": "stdout",
          "text": [
            "Processing: /content/WhatsApp Image 2025-09-26 at 23.10.39_82643042.jpg\n",
            "WhatsApp Image 2025-09-26 at 23.10.39_82643042 .jpg\n",
            "Processing: /content/WhatsApp Image 2025-09-26 at 23.08.38_8a292342.jpg\n",
            "WhatsApp Image 2025-09-26 at 23.08.38_8a292342 .jpg\n"
          ]
        }
      ]
    },
    {
      "cell_type": "markdown",
      "source": [
        "## 8.7 : Rotating the image and saving it"
      ],
      "metadata": {
        "id": "8m3bhlf4fQkj"
      }
    },
    {
      "cell_type": "code",
      "source": [
        "# rotate the image\n",
        "\n",
        "image1 = Image.open(\"/content/IMG_3230.jpg\")\n",
        "image2 = image1.copy()\n",
        "\n",
        "#rotate by 90 degree clockwise\n",
        "image1.rotate(90).save('/content/img_3230_rotate.jpg')\n",
        "\n",
        "image1.convert(\"L\").save('/content/img_3230_L.jpg')"
      ],
      "metadata": {
        "id": "9leqz8hIHfYU"
      },
      "execution_count": 19,
      "outputs": []
    },
    {
      "cell_type": "markdown",
      "source": [
        "## 8.8 : Convert image to black and white"
      ],
      "metadata": {
        "id": "4KWYOQqafUVT"
      }
    },
    {
      "cell_type": "code",
      "source": [
        "#black and white\n",
        "image2.convert(\"L\").save('/content/img_3230_L.jpg')"
      ],
      "metadata": {
        "id": "5CpCtS-bMSiX"
      },
      "execution_count": 20,
      "outputs": []
    },
    {
      "cell_type": "markdown",
      "source": [
        "## 8.9 : Adding blur - Gaussian blur to image"
      ],
      "metadata": {
        "id": "FjLKOd8ofYmj"
      }
    },
    {
      "cell_type": "code",
      "source": [
        "from PIL import ImageFilter\n",
        "\n",
        "image3= Image.open(\"/content/IMG_3230.jpg\")\n",
        "\n",
        "image3.filter(ImageFilter.GaussianBlur(15)).save('/content/img_3230_blur.jpg')"
      ],
      "metadata": {
        "id": "rp24WLTjMm8h"
      },
      "execution_count": 21,
      "outputs": []
    },
    {
      "cell_type": "code",
      "source": [],
      "metadata": {
        "id": "R4lQey1uNKWI"
      },
      "execution_count": null,
      "outputs": []
    }
  ]
}